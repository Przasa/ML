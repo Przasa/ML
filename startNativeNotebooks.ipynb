{
 "cells": [
  {
   "cell_type": "markdown",
   "metadata": {},
   "source": [
    "# Welcome to the New VS Code Notebook Experience! \r\n",
    "\r\n",
    "Whether you're new to the notebook experience in VS Code or a seasoned user, we'd like you to know that our experience has been revamped to provide:\r\n",
    "* Deep integration with the overall VS Code experience, including the ability to use editor extensions like VIM\r\n",
    "* Extremely fast notebook load times\r\n",
    "* A pleasing new look and feel\r\n",
    "* Many bug fixes\r\n",
    "\r\n",
    "To learn more about this new notebook experience and get a tour around, click here:  \r\n",
    "https://github.com/microsoft/vscode-jupyter/wiki/Introducing-Native-Notebooks  \r\n",
    "  \r\n",
    "Please be sure to let us know what you think of the new experience by filing an issue in our [repo](https://github.com/microsoft/vscode-jupyter/issues/new/choose). You may also be prompted to fill out an optional survey along the way. We would love it if you took some time to respond!\r\n",
    "  \r\n",
    "\r\n",
    "## Sincerely,  \r\n",
    "### The Jupyter Extension Team at Microsoft\r\n",
    "\r\n",
    "\r\n",
    "\r\n",
    "\r\n",
    "\r\n"
   ]
  },
  {
   "cell_type": "code",
   "execution_count": 1,
   "metadata": {},
   "outputs": [
    {
     "name": "stdout",
     "output_type": "stream",
     "text": [
      "2\n"
     ]
    }
   ],
   "source": [
    "x= 2\r\n",
    "print(x)\r\n"
   ]
  },
  {
   "cell_type": "markdown",
   "metadata": {},
   "source": []
  }
 ],
 "metadata": {
  "kernelspec": {
   "display_name": "Python 3.7.10 64-bit ('tf2': conda)",
   "name": "python3710jvsc74a57bd0bf5631f89951cc8d042a66138a00c25ad2429d3edbf2fbb98c53a46ae9461e43"
  },
  "language_info": {
   "codemirror_mode": {
    "name": "ipython",
    "version": 3
   },
   "file_extension": ".py",
   "mimetype": "text/x-python",
   "name": "python",
   "nbconvert_exporter": "python",
   "pygments_lexer": "ipython3",
   "version": "3.7.10"
  },
  "orig_nbformat": 2
 },
 "nbformat": 4,
 "nbformat_minor": 2
}